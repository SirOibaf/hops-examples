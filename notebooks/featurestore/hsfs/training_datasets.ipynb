{
 "cells": [
  {
   "cell_type": "markdown",
   "metadata": {},
   "source": [
    "### HSFS training datasets\n",
    "\n",
    "Training datasets is the third building block of the Hopsworks Feature Store. Data scientists can query the feature store (see [feature_exploration](./feature_exploration.ipynb) notebook) and materialize their query in training datasets.\n",
    "\n",
    "Training datasets can be saved in a ML framework friendly format (eg. TfRecords, CSV, Numpy) and then be fed to a machine learning model for training.\n",
    "\n",
    "Training datasets can also be stored on external storage systems like Amazon S3 or GCS to be read by external model training platforms.\n",
    "\n",
    "As with the previous notebooks, the first step is to establish a connection with the Hopsworks feature store and get the feature store handle"
   ]
  },
  {
   "cell_type": "code",
   "execution_count": 1,
   "metadata": {},
   "outputs": [
    {
     "name": "stdout",
     "output_type": "stream",
     "text": [
      "Starting Spark application\n"
     ]
    },
    {
     "data": {
      "text/html": [
       "<table>\n",
       "<tr><th>ID</th><th>YARN Application ID</th><th>Kind</th><th>State</th><th>Spark UI</th><th>Driver log</th></tr><tr><td>39</td><td>application_1596722804871_0040</td><td>pyspark</td><td>idle</td><td><a target=\"_blank\" href=\"http://resourcemanager.service.consul:8088/proxy/application_1596722804871_0040/\">Link</a></td><td><a target=\"_blank\" href=\"http://hopsworks1.logicalclocks.com:8042/node/containerlogs/container_e01_1596722804871_0040_01_000001/retail__meb10000\">Link</a></td></tr></table>"
      ],
      "text/plain": [
       "<IPython.core.display.HTML object>"
      ]
     },
     "metadata": {},
     "output_type": "display_data"
    },
    {
     "name": "stdout",
     "output_type": "stream",
     "text": [
      "SparkSession available as 'spark'.\n",
      "Connected. Call `.close()` to terminate connection gracefully."
     ]
    }
   ],
   "source": [
    "import hsfs\n",
    "# Create a connection\n",
    "connection = hsfs.connection()\n",
    "# Get the feature store handle for the project's feature store\n",
    "fs = connection.get_feature_store()"
   ]
  },
  {
   "cell_type": "markdown",
   "metadata": {},
   "source": [
    "### Create a training dataset from a query\n",
    "\n",
    "In the previous notebook ([feature_exploration](./feature_exploration.ipynb)) we walked through how to explore and query the Hopsworks feature store using HSFS. We can use the queries produced in the previous notebook to create a training dataset."
   ]
  },
  {
   "cell_type": "code",
   "execution_count": 2,
   "metadata": {},
   "outputs": [
    {
     "name": "stdout",
     "output_type": "stream",
     "text": [
      "VersionWarning: No version provided for getting feature group `sales_fg`, defaulting to `1`.\n",
      "VersionWarning: No version provided for getting feature group `exogenous_fg`, defaulting to `1`."
     ]
    }
   ],
   "source": [
    "sales_fg = fs.get_feature_group('sales_fg')\n",
    "exogenous_fg = fs.get_feature_group('exogenous_fg')\n",
    "\n",
    "query = sales_fg.select_all()\\\n",
    "        .join(exogenous_fg.select(['fuel_price', 'unemployment', 'cpi']))"
   ]
  },
  {
   "cell_type": "markdown",
   "metadata": {},
   "source": [
    "As for the feature groups, we first need to generate a metadata object representing the training dataset. After that, we can call the `save()` method to persist it in the Hopsworks feature store.\n",
    "Different file formats are available: `csv`, `tfrecord`, `npy`, `hdf5`, `avro`, `parquet`, `orc`."
   ]
  },
  {
   "cell_type": "code",
   "execution_count": 6,
   "metadata": {},
   "outputs": [
    {
     "name": "stdout",
     "output_type": "stream",
     "text": [
      "<hsfs.training_dataset.TrainingDataset object at 0x7f23a583feb8>"
     ]
    }
   ],
   "source": [
    "td = fs.create_training_dataset(name=\"sales_model\",\n",
    "                               description=\"Dataset to train the sales model\",\n",
    "                               data_format=\"csv\",\n",
    "                               version=1)\n",
    "\n",
    "td.save(query)"
   ]
  },
  {
   "cell_type": "markdown",
   "metadata": {},
   "source": [
    "#### Pass write options\n",
    "\n",
    "When you save a training dataset, you have the possibility of specifying additional parameters to the Spark writer. For instance, in the example below, we are adding the headers to the CSV file."
   ]
  },
  {
   "cell_type": "code",
   "execution_count": 7,
   "metadata": {},
   "outputs": [
    {
     "name": "stdout",
     "output_type": "stream",
     "text": [
      "<hsfs.training_dataset.TrainingDataset object at 0x7f23a57ea7b8>"
     ]
    }
   ],
   "source": [
    "td = fs.create_training_dataset(name=\"sales_model\",\n",
    "                               description=\"Dataset to train the sales model\",\n",
    "                               data_format=\"csv\",\n",
    "                               version=2)\n",
    "\n",
    "td.save(query, {'hearder': 'true'})"
   ]
  },
  {
   "cell_type": "markdown",
   "metadata": {},
   "source": [
    "#### Split the training dataset\n",
    "\n",
    "If you are training a model, you might want to split the training datasets into different slices (training, test and validation). HSFS allows you to specify the split sizes. You can also provide a seed for the random splitter, if you want to reproduce a training dataset."
   ]
  },
  {
   "cell_type": "code",
   "execution_count": 11,
   "metadata": {},
   "outputs": [
    {
     "name": "stdout",
     "output_type": "stream",
     "text": [
      "<hsfs.training_dataset.TrainingDataset object at 0x7f23a5843470>"
     ]
    }
   ],
   "source": [
    "td = fs.create_training_dataset(name=\"sales_model\",\n",
    "                               description=\"Dataset to train the sales model\",\n",
    "                               data_format=\"csv\",\n",
    "                               splits={'train': 0.7, 'test': 0.2, 'validate': 0.1},\n",
    "                               version=3)\n",
    "\n",
    "td.save(query, {'hearder': 'true'})"
   ]
  },
  {
   "cell_type": "markdown",
   "metadata": {},
   "source": [
    "#### Save the dataset on an external storage system\n",
    "\n",
    "If you are training your model on an external machine learning platform (e.g. SageMaker), you might want to save the training dataset on an external storage system (e.g. S3). You can take advantage of the Hopsworks storage connectors (see [documentation](https://hopsworks.readthedocs.io/en/latest/featurestore/guides/featurestore.html#configuring-storage-connectors-for-the-feature-store)).\n",
    "\n",
    "Assuming you have created an S3 storage connector name `td_bucket_connector`, you can create an external training dataset as follows:"
   ]
  },
  {
   "cell_type": "code",
   "execution_count": 19,
   "metadata": {
    "collapsed": true,
    "jupyter": {
     "outputs_hidden": true
    }
   },
   "outputs": [
    {
     "name": "stderr",
     "output_type": "stream",
     "text": [
      "An error was encountered:\n",
      "An error occurred while calling o344.save.\n",
      ": java.nio.file.AccessDeniedException: s3a://bucket/TRAINING_DATASETS/sales_model_4/sales_model: getFileStatus on s3a://bucket/TRAINING_DATASETS/sales_model_4/sales_model: com.amazonaws.services.s3.model.AmazonS3Exception: Forbidden (Service: Amazon S3; Status Code: 403; Error Code: 403 Forbidden; Request ID: 0BC824436BB630FF; S3 Extended Request ID: sbxxnaFM4syItrMnePlMGZv7atdkoPr7OCGsKobXnKTz581JHhlNucIZTtI6KlAfwZu0VMdyYGs=), S3 Extended Request ID: sbxxnaFM4syItrMnePlMGZv7atdkoPr7OCGsKobXnKTz581JHhlNucIZTtI6KlAfwZu0VMdyYGs=:403 Forbidden\n",
      "\tat org.apache.hadoop.fs.s3a.S3AUtils.translateException(S3AUtils.java:230)\n",
      "\tat org.apache.hadoop.fs.s3a.S3AUtils.translateException(S3AUtils.java:151)\n",
      "\tat org.apache.hadoop.fs.s3a.S3AFileSystem.s3GetFileStatus(S3AFileSystem.java:2198)\n",
      "\tat org.apache.hadoop.fs.s3a.S3AFileSystem.innerGetFileStatus(S3AFileSystem.java:2163)\n",
      "\tat org.apache.hadoop.fs.s3a.S3AFileSystem.getFileStatus(S3AFileSystem.java:2102)\n",
      "\tat org.apache.hadoop.fs.FileSystem.exists(FileSystem.java:1710)\n",
      "\tat org.apache.hadoop.fs.s3a.S3AFileSystem.exists(S3AFileSystem.java:2984)\n",
      "\tat org.apache.spark.sql.execution.datasources.InsertIntoHadoopFsRelationCommand.run(InsertIntoHadoopFsRelationCommand.scala:93)\n",
      "\tat org.apache.spark.sql.execution.command.DataWritingCommandExec.sideEffectResult$lzycompute(commands.scala:104)\n",
      "\tat org.apache.spark.sql.execution.command.DataWritingCommandExec.sideEffectResult(commands.scala:102)\n",
      "\tat org.apache.spark.sql.execution.command.DataWritingCommandExec.doExecute(commands.scala:122)\n",
      "\tat org.apache.spark.sql.execution.SparkPlan$$anonfun$execute$1.apply(SparkPlan.scala:131)\n",
      "\tat org.apache.spark.sql.execution.SparkPlan$$anonfun$execute$1.apply(SparkPlan.scala:127)\n",
      "\tat org.apache.spark.sql.execution.SparkPlan$$anonfun$executeQuery$1.apply(SparkPlan.scala:155)\n",
      "\tat org.apache.spark.rdd.RDDOperationScope$.withScope(RDDOperationScope.scala:151)\n",
      "\tat org.apache.spark.sql.execution.SparkPlan.executeQuery(SparkPlan.scala:152)\n",
      "\tat org.apache.spark.sql.execution.SparkPlan.execute(SparkPlan.scala:127)\n",
      "\tat org.apache.spark.sql.execution.QueryExecution.toRdd$lzycompute(QueryExecution.scala:80)\n",
      "\tat org.apache.spark.sql.execution.QueryExecution.toRdd(QueryExecution.scala:80)\n",
      "\tat org.apache.spark.sql.DataFrameWriter$$anonfun$runCommand$1.apply(DataFrameWriter.scala:676)\n",
      "\tat org.apache.spark.sql.DataFrameWriter$$anonfun$runCommand$1.apply(DataFrameWriter.scala:676)\n",
      "\tat org.apache.spark.sql.execution.SQLExecution$$anonfun$withNewExecutionId$1.apply(SQLExecution.scala:78)\n",
      "\tat org.apache.spark.sql.execution.SQLExecution$.withSQLConfPropagated(SQLExecution.scala:125)\n",
      "\tat org.apache.spark.sql.execution.SQLExecution$.withNewExecutionId(SQLExecution.scala:73)\n",
      "\tat org.apache.spark.sql.DataFrameWriter.runCommand(DataFrameWriter.scala:676)\n",
      "\tat org.apache.spark.sql.DataFrameWriter.saveToV1Source(DataFrameWriter.scala:285)\n",
      "\tat org.apache.spark.sql.DataFrameWriter.save(DataFrameWriter.scala:271)\n",
      "\tat org.apache.spark.sql.DataFrameWriter.save(DataFrameWriter.scala:229)\n",
      "\tat sun.reflect.NativeMethodAccessorImpl.invoke0(Native Method)\n",
      "\tat sun.reflect.NativeMethodAccessorImpl.invoke(NativeMethodAccessorImpl.java:62)\n",
      "\tat sun.reflect.DelegatingMethodAccessorImpl.invoke(DelegatingMethodAccessorImpl.java:43)\n",
      "\tat java.lang.reflect.Method.invoke(Method.java:498)\n",
      "\tat py4j.reflection.MethodInvoker.invoke(MethodInvoker.java:244)\n",
      "\tat py4j.reflection.ReflectionEngine.invoke(ReflectionEngine.java:357)\n",
      "\tat py4j.Gateway.invoke(Gateway.java:282)\n",
      "\tat py4j.commands.AbstractCommand.invokeMethod(AbstractCommand.java:132)\n",
      "\tat py4j.commands.CallCommand.execute(CallCommand.java:79)\n",
      "\tat py4j.GatewayConnection.run(GatewayConnection.java:238)\n",
      "\tat java.lang.Thread.run(Thread.java:748)\n",
      "Caused by: com.amazonaws.services.s3.model.AmazonS3Exception: Forbidden (Service: Amazon S3; Status Code: 403; Error Code: 403 Forbidden; Request ID: 0BC824436BB630FF; S3 Extended Request ID: sbxxnaFM4syItrMnePlMGZv7atdkoPr7OCGsKobXnKTz581JHhlNucIZTtI6KlAfwZu0VMdyYGs=), S3 Extended Request ID: sbxxnaFM4syItrMnePlMGZv7atdkoPr7OCGsKobXnKTz581JHhlNucIZTtI6KlAfwZu0VMdyYGs=\n",
      "\tat com.amazonaws.http.AmazonHttpClient$RequestExecutor.handleErrorResponse(AmazonHttpClient.java:1640)\n",
      "\tat com.amazonaws.http.AmazonHttpClient$RequestExecutor.executeOneRequest(AmazonHttpClient.java:1304)\n",
      "\tat com.amazonaws.http.AmazonHttpClient$RequestExecutor.executeHelper(AmazonHttpClient.java:1058)\n",
      "\tat com.amazonaws.http.AmazonHttpClient$RequestExecutor.doExecute(AmazonHttpClient.java:743)\n",
      "\tat com.amazonaws.http.AmazonHttpClient$RequestExecutor.executeWithTimer(AmazonHttpClient.java:717)\n",
      "\tat com.amazonaws.http.AmazonHttpClient$RequestExecutor.execute(AmazonHttpClient.java:699)\n",
      "\tat com.amazonaws.http.AmazonHttpClient$RequestExecutor.access$500(AmazonHttpClient.java:667)\n",
      "\tat com.amazonaws.http.AmazonHttpClient$RequestExecutionBuilderImpl.execute(AmazonHttpClient.java:649)\n",
      "\tat com.amazonaws.http.AmazonHttpClient.execute(AmazonHttpClient.java:513)\n",
      "\tat com.amazonaws.services.s3.AmazonS3Client.invoke(AmazonS3Client.java:4368)\n",
      "\tat com.amazonaws.services.s3.AmazonS3Client.invoke(AmazonS3Client.java:4315)\n",
      "\tat com.amazonaws.services.s3.AmazonS3Client.getObjectMetadata(AmazonS3Client.java:1271)\n",
      "\tat org.apache.hadoop.fs.s3a.S3AFileSystem.lambda$getObjectMetadata$4(S3AFileSystem.java:1249)\n",
      "\tat org.apache.hadoop.fs.s3a.Invoker.retryUntranslated(Invoker.java:322)\n",
      "\tat org.apache.hadoop.fs.s3a.Invoker.retryUntranslated(Invoker.java:285)\n",
      "\tat org.apache.hadoop.fs.s3a.S3AFileSystem.getObjectMetadata(S3AFileSystem.java:1246)\n",
      "\tat org.apache.hadoop.fs.s3a.S3AFileSystem.s3GetFileStatus(S3AFileSystem.java:2183)\n",
      "\t... 36 more\n",
      "\n",
      "Traceback (most recent call last):\n",
      "  File \"/srv/hops/anaconda/envs/theenv/lib/python3.6/site-packages/hsfs/training_dataset.py\", line 120, in save\n",
      "    self._training_dataset_engine.save(self, feature_dataframe, write_options)\n",
      "  File \"/srv/hops/anaconda/envs/theenv/lib/python3.6/site-packages/hsfs/core/training_dataset_engine.py\", line 38, in save\n",
      "    self._write(training_dataset, feature_dataframe, write_options, self.OVERWRITE)\n",
      "  File \"/srv/hops/anaconda/envs/theenv/lib/python3.6/site-packages/hsfs/core/training_dataset_engine.py\", line 88, in _write\n",
      "    path,\n",
      "  File \"/srv/hops/anaconda/envs/theenv/lib/python3.6/site-packages/hsfs/core/training_dataset_engine.py\", line 140, in _write_single\n",
      "    path,\n",
      "  File \"/srv/hops/anaconda/envs/theenv/lib/python3.6/site-packages/hsfs/engine/spark.py\", line 175, in write\n",
      "    ).save(path)\n",
      "  File \"/srv/hops/spark/python/lib/pyspark.zip/pyspark/sql/readwriter.py\", line 734, in save\n",
      "    self._jwrite.save(path)\n",
      "  File \"/srv/hops/spark/python/lib/py4j-0.10.7-src.zip/py4j/java_gateway.py\", line 1257, in __call__\n",
      "    answer, self.gateway_client, self.target_id, self.name)\n",
      "  File \"/srv/hops/spark/python/lib/pyspark.zip/pyspark/sql/utils.py\", line 63, in deco\n",
      "    return f(*a, **kw)\n",
      "  File \"/srv/hops/spark/python/lib/py4j-0.10.7-src.zip/py4j/protocol.py\", line 328, in get_return_value\n",
      "    format(target_id, \".\", name), value)\n",
      "py4j.protocol.Py4JJavaError: An error occurred while calling o344.save.\n",
      ": java.nio.file.AccessDeniedException: s3a://bucket/TRAINING_DATASETS/sales_model_4/sales_model: getFileStatus on s3a://bucket/TRAINING_DATASETS/sales_model_4/sales_model: com.amazonaws.services.s3.model.AmazonS3Exception: Forbidden (Service: Amazon S3; Status Code: 403; Error Code: 403 Forbidden; Request ID: 0BC824436BB630FF; S3 Extended Request ID: sbxxnaFM4syItrMnePlMGZv7atdkoPr7OCGsKobXnKTz581JHhlNucIZTtI6KlAfwZu0VMdyYGs=), S3 Extended Request ID: sbxxnaFM4syItrMnePlMGZv7atdkoPr7OCGsKobXnKTz581JHhlNucIZTtI6KlAfwZu0VMdyYGs=:403 Forbidden\n",
      "\tat org.apache.hadoop.fs.s3a.S3AUtils.translateException(S3AUtils.java:230)\n",
      "\tat org.apache.hadoop.fs.s3a.S3AUtils.translateException(S3AUtils.java:151)\n",
      "\tat org.apache.hadoop.fs.s3a.S3AFileSystem.s3GetFileStatus(S3AFileSystem.java:2198)\n",
      "\tat org.apache.hadoop.fs.s3a.S3AFileSystem.innerGetFileStatus(S3AFileSystem.java:2163)\n",
      "\tat org.apache.hadoop.fs.s3a.S3AFileSystem.getFileStatus(S3AFileSystem.java:2102)\n",
      "\tat org.apache.hadoop.fs.FileSystem.exists(FileSystem.java:1710)\n",
      "\tat org.apache.hadoop.fs.s3a.S3AFileSystem.exists(S3AFileSystem.java:2984)\n",
      "\tat org.apache.spark.sql.execution.datasources.InsertIntoHadoopFsRelationCommand.run(InsertIntoHadoopFsRelationCommand.scala:93)\n",
      "\tat org.apache.spark.sql.execution.command.DataWritingCommandExec.sideEffectResult$lzycompute(commands.scala:104)\n",
      "\tat org.apache.spark.sql.execution.command.DataWritingCommandExec.sideEffectResult(commands.scala:102)\n",
      "\tat org.apache.spark.sql.execution.command.DataWritingCommandExec.doExecute(commands.scala:122)\n",
      "\tat org.apache.spark.sql.execution.SparkPlan$$anonfun$execute$1.apply(SparkPlan.scala:131)\n",
      "\tat org.apache.spark.sql.execution.SparkPlan$$anonfun$execute$1.apply(SparkPlan.scala:127)\n",
      "\tat org.apache.spark.sql.execution.SparkPlan$$anonfun$executeQuery$1.apply(SparkPlan.scala:155)\n",
      "\tat org.apache.spark.rdd.RDDOperationScope$.withScope(RDDOperationScope.scala:151)\n",
      "\tat org.apache.spark.sql.execution.SparkPlan.executeQuery(SparkPlan.scala:152)\n",
      "\tat org.apache.spark.sql.execution.SparkPlan.execute(SparkPlan.scala:127)\n",
      "\tat org.apache.spark.sql.execution.QueryExecution.toRdd$lzycompute(QueryExecution.scala:80)\n",
      "\tat org.apache.spark.sql.execution.QueryExecution.toRdd(QueryExecution.scala:80)\n",
      "\tat org.apache.spark.sql.DataFrameWriter$$anonfun$runCommand$1.apply(DataFrameWriter.scala:676)\n",
      "\tat org.apache.spark.sql.DataFrameWriter$$anonfun$runCommand$1.apply(DataFrameWriter.scala:676)\n",
      "\tat org.apache.spark.sql.execution.SQLExecution$$anonfun$withNewExecutionId$1.apply(SQLExecution.scala:78)\n",
      "\tat org.apache.spark.sql.execution.SQLExecution$.withSQLConfPropagated(SQLExecution.scala:125)\n",
      "\tat org.apache.spark.sql.execution.SQLExecution$.withNewExecutionId(SQLExecution.scala:73)\n",
      "\tat org.apache.spark.sql.DataFrameWriter.runCommand(DataFrameWriter.scala:676)\n",
      "\tat org.apache.spark.sql.DataFrameWriter.saveToV1Source(DataFrameWriter.scala:285)\n",
      "\tat org.apache.spark.sql.DataFrameWriter.save(DataFrameWriter.scala:271)\n",
      "\tat org.apache.spark.sql.DataFrameWriter.save(DataFrameWriter.scala:229)\n",
      "\tat sun.reflect.NativeMethodAccessorImpl.invoke0(Native Method)\n",
      "\tat sun.reflect.NativeMethodAccessorImpl.invoke(NativeMethodAccessorImpl.java:62)\n",
      "\tat sun.reflect.DelegatingMethodAccessorImpl.invoke(DelegatingMethodAccessorImpl.java:43)\n",
      "\tat java.lang.reflect.Method.invoke(Method.java:498)\n",
      "\tat py4j.reflection.MethodInvoker.invoke(MethodInvoker.java:244)\n",
      "\tat py4j.reflection.ReflectionEngine.invoke(ReflectionEngine.java:357)\n",
      "\tat py4j.Gateway.invoke(Gateway.java:282)\n",
      "\tat py4j.commands.AbstractCommand.invokeMethod(AbstractCommand.java:132)\n",
      "\tat py4j.commands.CallCommand.execute(CallCommand.java:79)\n",
      "\tat py4j.GatewayConnection.run(GatewayConnection.java:238)\n",
      "\tat java.lang.Thread.run(Thread.java:748)\n",
      "Caused by: com.amazonaws.services.s3.model.AmazonS3Exception: Forbidden (Service: Amazon S3; Status Code: 403; Error Code: 403 Forbidden; Request ID: 0BC824436BB630FF; S3 Extended Request ID: sbxxnaFM4syItrMnePlMGZv7atdkoPr7OCGsKobXnKTz581JHhlNucIZTtI6KlAfwZu0VMdyYGs=), S3 Extended Request ID: sbxxnaFM4syItrMnePlMGZv7atdkoPr7OCGsKobXnKTz581JHhlNucIZTtI6KlAfwZu0VMdyYGs=\n",
      "\tat com.amazonaws.http.AmazonHttpClient$RequestExecutor.handleErrorResponse(AmazonHttpClient.java:1640)\n",
      "\tat com.amazonaws.http.AmazonHttpClient$RequestExecutor.executeOneRequest(AmazonHttpClient.java:1304)\n",
      "\tat com.amazonaws.http.AmazonHttpClient$RequestExecutor.executeHelper(AmazonHttpClient.java:1058)\n",
      "\tat com.amazonaws.http.AmazonHttpClient$RequestExecutor.doExecute(AmazonHttpClient.java:743)\n",
      "\tat com.amazonaws.http.AmazonHttpClient$RequestExecutor.executeWithTimer(AmazonHttpClient.java:717)\n",
      "\tat com.amazonaws.http.AmazonHttpClient$RequestExecutor.execute(AmazonHttpClient.java:699)\n",
      "\tat com.amazonaws.http.AmazonHttpClient$RequestExecutor.access$500(AmazonHttpClient.java:667)\n",
      "\tat com.amazonaws.http.AmazonHttpClient$RequestExecutionBuilderImpl.execute(AmazonHttpClient.java:649)\n",
      "\tat com.amazonaws.http.AmazonHttpClient.execute(AmazonHttpClient.java:513)\n",
      "\tat com.amazonaws.services.s3.AmazonS3Client.invoke(AmazonS3Client.java:4368)\n",
      "\tat com.amazonaws.services.s3.AmazonS3Client.invoke(AmazonS3Client.java:4315)\n",
      "\tat com.amazonaws.services.s3.AmazonS3Client.getObjectMetadata(AmazonS3Client.java:1271)\n",
      "\tat org.apache.hadoop.fs.s3a.S3AFileSystem.lambda$getObjectMetadata$4(S3AFileSystem.java:1249)\n",
      "\tat org.apache.hadoop.fs.s3a.Invoker.retryUntranslated(Invoker.java:322)\n",
      "\tat org.apache.hadoop.fs.s3a.Invoker.retryUntranslated(Invoker.java:285)\n",
      "\tat org.apache.hadoop.fs.s3a.S3AFileSystem.getObjectMetadata(S3AFileSystem.java:1246)\n",
      "\tat org.apache.hadoop.fs.s3a.S3AFileSystem.s3GetFileStatus(S3AFileSystem.java:2183)\n",
      "\t... 36 more\n",
      "\n",
      "\n"
     ]
    }
   ],
   "source": [
    "td_bucket_connector = fs.get_storage_connector(\"td_bucket_connector\", \"S3\")\n",
    "\n",
    "td = fs.create_training_dataset(name=\"sales_model\",\n",
    "                               description=\"Dataset to train the sales model\",\n",
    "                               data_format=\"csv\",\n",
    "                               storage_connector=td_bucket_connector,\n",
    "                               version=4)\n",
    "\n",
    "### This code is expected to fail if you connector is not configured properly\n",
    "td.save(query)"
   ]
  },
  {
   "cell_type": "markdown",
   "metadata": {},
   "source": [
    "#### Replay the query that generated the training dataset\n",
    "\n",
    "If you created a training dataset from a query object, then you can ask the feature store to return the set of features (in order) and the set of joins that generated. \n",
    "This feature is useful if you are serving a model in production and you want to augment the inference vector with features taken from the online feature store"
   ]
  },
  {
   "cell_type": "code",
   "execution_count": 13,
   "metadata": {},
   "outputs": [
    {
     "name": "stdout",
     "output_type": "stream",
     "text": [
      "SELECT `fg15`.`is_holiday`, `fg15`.`store`, `fg15`.`dept`, `fg15`.`date`, `fg15`.`sales_last_six_month_store`, `fg15`.`sales_last_six_month_store_dep`, `fg15`.`sales_last_month_store_dep`, `fg15`.`sales_last_month_store`, `fg15`.`sales_last_quarter_store`, `fg15`.`sales_last_year_store`, `fg15`.`weekly_sales`, `fg15`.`sales_last_year_store_dep`, `fg15`.`sales_last_quarter_store_dep`, `fg14`.`fuel_price`, `fg14`.`unemployment`, `fg14`.`cpi`\n",
      "FROM `retail`.`sales_fg_1` `fg15`\n",
      "INNER JOIN `retail`.`exogenous_fg_1` `fg14` ON `fg15`.`date` = `fg14`.`date` AND `fg15`.`store` = `fg14`.`store`\n",
      "VersionWarning: No version provided for getting training dataset `sales_model`, defaulting to `1`."
     ]
    }
   ],
   "source": [
    "td = fs.get_training_dataset(name=\"sales_model\")\n",
    "print(td.query())"
   ]
  },
  {
   "cell_type": "markdown",
   "metadata": {},
   "source": [
    "### Create a training dataset from a DataFrame\n",
    "\n",
    "If you need to apply additional transformations before creating a training dataset, you can create one from a Spark DataFrame instead of using a query.\n",
    "The `create_training_dataset` part stays the same, the difference is that we are going to pass a DataFrame to the `save()` method.\n",
    "\n",
    "As you have applied additional transformations between the query object and the training dataset, we won't be able to re-play the query for this specific training dataset."
   ]
  },
  {
   "cell_type": "code",
   "execution_count": 23,
   "metadata": {},
   "outputs": [
    {
     "name": "stdout",
     "output_type": "stream",
     "text": [
      "<hsfs.training_dataset.TrainingDataset object at 0x7f23a57ea9b0>"
     ]
    }
   ],
   "source": [
    "df = query.read()\n",
    "# Apply additional transformations\n",
    "df = df.drop(\"is_holiday\")\n",
    "\n",
    "td = fs.create_training_dataset(name=\"sales_model\",\n",
    "                               description=\"Dataset to train the sales model\",\n",
    "                               data_format=\"csv\",\n",
    "                               version=5)\n",
    "\n",
    "td.save(df)"
   ]
  },
  {
   "cell_type": "markdown",
   "metadata": {},
   "source": [
    "### Add a tag to a training dataset\n",
    "\n",
    "As for feature groups, you can add tags to a training dataset. Tags are indexed and you can search for them in the Hopsworks feature store UI. Tags are an useful tool to catalog the feature store. The `value` field can be omitted. "
   ]
  },
  {
   "cell_type": "code",
   "execution_count": 25,
   "metadata": {},
   "outputs": [],
   "source": [
    "td = fs.get_training_dataset(\"sales_model\", 5)\n",
    "td.add_tag(\"model\", value=\"sales\")"
   ]
  },
  {
   "cell_type": "markdown",
   "metadata": {},
   "source": [
    "From the HSFS API you can also list all the tags associated with a specific training dataset"
   ]
  },
  {
   "cell_type": "code",
   "execution_count": 26,
   "metadata": {},
   "outputs": [
    {
     "name": "stdout",
     "output_type": "stream",
     "text": [
      "[{'model': 'sales'}]"
     ]
    }
   ],
   "source": [
    "td = fs.get_training_dataset(\"sales_model\", 5)\n",
    "td.get_tag()"
   ]
  },
  {
   "cell_type": "markdown",
   "metadata": {},
   "source": [
    "### Read a training dataset\n",
    "\n",
    "As for feature groups, you can call the methods `show()` method to get a preview of the training dataset and `read()` to get a Spark DataFrame of it."
   ]
  },
  {
   "cell_type": "code",
   "execution_count": 27,
   "metadata": {},
   "outputs": [
    {
     "name": "stdout",
     "output_type": "stream",
     "text": [
      "+----------+-----+----+-------------------+--------------------------+------------------------------+--------------------------+----------------------+------------------------+---------------------+------------+-------------------------+----------------------------+----------+------------+-----------+\n",
      "|is_holiday|store|dept|               date|sales_last_six_month_store|sales_last_six_month_store_dep|sales_last_month_store_dep|sales_last_month_store|sales_last_quarter_store|sales_last_year_store|weekly_sales|sales_last_year_store_dep|sales_last_quarter_store_dep|fuel_price|unemployment|        cpi|\n",
      "+----------+-----+----+-------------------+--------------------------+------------------------------+--------------------------+----------------------+------------------------+---------------------+------------+-------------------------+----------------------------+----------+------------+-----------+\n",
      "|     false|   20|  94|2010-02-05 00:00:00|                       0.0|                           0.0|                       0.0|                   0.0|                     0.0|                  0.0|    63787.83|                      0.0|                         0.0|     2.784|       8.187|204.2471935|\n",
      "|     false|   20|  22|2010-02-05 00:00:00|                       0.0|                           0.0|                       0.0|                   0.0|                     0.0|                  0.0|    17597.83|                      0.0|                         0.0|     2.784|       8.187|204.2471935|\n",
      "|     false|   20|   2|2010-02-05 00:00:00|                       0.0|                           0.0|                       0.0|                   0.0|                     0.0|                  0.0|    85812.69|                      0.0|                         0.0|     2.784|       8.187|204.2471935|\n",
      "|     false|   20|  92|2010-02-05 00:00:00|                       0.0|                           0.0|                       0.0|                   0.0|                     0.0|                  0.0|   195223.84|                      0.0|                         0.0|     2.784|       8.187|204.2471935|\n",
      "|     false|   20|  71|2010-02-05 00:00:00|                       0.0|                           0.0|                       0.0|                   0.0|                     0.0|                  0.0|    20512.14|                      0.0|                         0.0|     2.784|       8.187|204.2471935|\n",
      "+----------+-----+----+-------------------+--------------------------+------------------------------+--------------------------+----------------------+------------------------+---------------------+------------+-------------------------+----------------------------+----------+------------+-----------+\n",
      "only showing top 5 rows"
     ]
    }
   ],
   "source": [
    "td = fs.get_training_dataset(\"sales_model\", 1)\n",
    "td.show(5)"
   ]
  },
  {
   "cell_type": "markdown",
   "metadata": {},
   "source": [
    "If you have splitted your training dataset, you can also read a single split"
   ]
  },
  {
   "cell_type": "code",
   "execution_count": 29,
   "metadata": {},
   "outputs": [
    {
     "name": "stdout",
     "output_type": "stream",
     "text": [
      "295497"
     ]
    }
   ],
   "source": [
    "td = fs.get_training_dataset(\"sales_model\", 3)\n",
    "td.read(\"train\").count()"
   ]
  },
  {
   "cell_type": "markdown",
   "metadata": {},
   "source": [
    "### Feed the training dataset to a model training\n",
    "\n",
    "If you are training a model, HSFS allows you to get a `tf.data.TFRecordDataset` handle to read the trainign dataset and feed it to a model training loop efficiently."
   ]
  },
  {
   "cell_type": "code",
   "execution_count": 30,
   "metadata": {},
   "outputs": [
    {
     "name": "stderr",
     "output_type": "stream",
     "text": [
      "An error was encountered:\n",
      "File system scheme 'hopsfs' not implemented (file: 'hopsfs://192.168.233.102:8020/Projects/retail/retail_Training_Datasets/sales_model_3/train/part-r-*')\n",
      "Traceback (most recent call last):\n",
      "  File \"/srv/hops/anaconda/envs/theenv/lib/python3.6/site-packages/hsfs/core/feed_model_engine.py\", line 137, in tf_record_dataset\n",
      "    self._path, self._cycle_length, engine=self._engine\n",
      "  File \"/srv/hops/anaconda/envs/theenv/lib/python3.6/site-packages/hsfs/core/feed_model_engine.py\", line 244, in _get_tfdataset\n",
      "    input_files = tf.io.gfile.glob(path + \"/part-r-*\")\n",
      "  File \"/srv/hops/anaconda/envs/theenv/lib/python3.6/site-packages/tensorflow/python/lib/io/file_io.py\", line 371, in get_matching_files_v2\n",
      "    compat.as_bytes(pattern))\n",
      "tensorflow.python.framework.errors_impl.UnimplementedError: File system scheme 'hopsfs' not implemented (file: 'hopsfs://192.168.233.102:8020/Projects/retail/retail_Training_Datasets/sales_model_3/train/part-r-*')\n",
      "\n"
     ]
    }
   ],
   "source": [
    "td = fs.get_training_dataset(\"sales_model\", 3)\n",
    "\n",
    "train_input_feeder = td.feed(target_name='weekly_sales',split='train', is_training=True)\n",
    "train_input = train_input_feeder.tf_record_dataset()"
   ]
  }
 ],
 "metadata": {
  "kernelspec": {
   "display_name": "PySpark",
   "language": "python",
   "name": "pysparkkernel"
  },
  "language_info": {
   "codemirror_mode": {
    "name": "python",
    "version": 3
   },
   "mimetype": "text/x-python",
   "name": "pyspark",
   "pygments_lexer": "python3"
  }
 },
 "nbformat": 4,
 "nbformat_minor": 4
}