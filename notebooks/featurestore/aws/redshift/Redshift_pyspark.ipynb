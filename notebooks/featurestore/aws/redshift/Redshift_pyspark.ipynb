{
 "cells": [
  {
   "cell_type": "markdown",
   "metadata": {},
   "source": [
    "<h2 style=\"color: #1EB382;font-weight: bold;\">Redshift Integration</h2>\n",
    "\n",
    "This notebooks guides through the ingestion of Redshift data in the Hopsworks feature store. To follow this notebook users should have an existing Redshift cluster, if not, they can follow the AWS [documentation](https://docs.aws.amazon.com/ses/latest/DeveloperGuide/event-publishing-redshift-cluster.html).\n",
    "\n",
    "The data for this tutorial is available in CSV format [here]()\n",
    "Users should create the following table in Redshift\n",
    "```sql\n",
    "CREATE TABLE telco(\n",
    "    customer_id varchar(200),\n",
    "    gender varchar(200),\n",
    "    senior_citizen integer,\n",
    "    partner varchar(200),\n",
    "    dependents varchar(200),\n",
    "    tenure integer,\n",
    "    phone_service varchar(200),\n",
    "    multiple_lines varchar(200),\n",
    "    internet_service varchar(200),\n",
    "    online_security varchar(200),\n",
    "    online_backup varchar(200),\n",
    "    device_protection varchar(200),\n",
    "    tech_support varchar(200),\n",
    "    streaming_tv varchar(200),\n",
    "    streaming_movies varchar(200),\n",
    "    contract varchar(200),\n",
    "    paperless_billing varchar(200),\n",
    "    payment_method varchar(200),\n",
    "    monthly_charges double precision,\n",
    "    total_charges varchar(200),\n",
    "    churn varchar(200)\n",
    ")\n",
    "```\n",
    "\n",
    "and populate the table using the copy command:\n",
    "```sql\n",
    "COPY telco\n",
    "FROM 's3://bucket/telco_customer_churn.csv'\n",
    "IAM_ROLE 'arn:aws:iam::xxxxxxxxx:role/role_name'\n",
    "FORMAT as CSV\n",
    "FILLRECORD\n",
    "```\n",
    "\n",
    "Once the data has been imported into Redshift, we can start ingesting it into the Hopsworks Feature Store. \n",
    "\n",
    "<h3 style=\"color: #1EB382;font-weight: bold;\">Storage Connector</h3>\n",
    "\n",
    "The first step to be able to ingest Redshift data in the feature store is to configure a storage connector. \n",
    "Hopsworks storage connectors are meant as a centralized place to store and manage configurations to read and write to external system. \n",
    "\n",
    "The Redshift connector requires you to specify the following properties. Most of them are available in the properties area of your cluster in the Redshift UI. \n",
    "\n",
    "- Cluster identifier: The name of the cluster\n",
    "\n",
    "- Database driver: You can use the default JDBC Redshift Driver `com.amazon.redshift.jdbc42.Driver` (More on this later)\n",
    "\n",
    "- Database endpoint: The endpoint for the database. Should be in the format of `[UUID].eu-west-1.redshift.amazonaws.com`\n",
    "\n",
    "- Database name: The name of the database to query\n",
    "\n",
    "- Database port: The port of the cluster. Defaults to 5349\n",
    "\n",
    "\n",
    "There are two options to authenticate with the Redshift cluster. The first option is to configure username and password. The password is stored in the secret store and made available to all the member of the project.\n",
    "\n",
    "Alternatively a IAM role can be configured. When configured the HSFS library will use the IAM role to acquire a temporary credential to authenticate the specified user.\n",
    "\n",
    "With regards to the database driver, the library to interact with Redshift *is not* part of the standard Hopsworks distribution and needs to be provided by the user. The library can be downloaded here: https://docs.aws.amazon.com/redshift/latest/mgmt/configure-jdbc-connection.html#download-jdbc-driver"
   ]
  },
  {
   "cell_type": "code",
   "execution_count": 10,
   "metadata": {},
   "outputs": [
    {
     "name": "stdout",
     "output_type": "stream",
     "text": [
      "Connected. Call `.close()` to terminate connection gracefully."
     ]
    }
   ],
   "source": [
    "import hsfs\n",
    "# Connect to the Hopsworks feature store\n",
    "connection = hsfs.connection()\n",
    "# Retrieve the metadata handle\n",
    "fs = connection.get_feature_store()"
   ]
  },
  {
   "cell_type": "markdown",
   "metadata": {},
   "source": [
    "<h3 style=\"color: #1EB382;font-weight: bold;\">On-Demand Feature Group</h3>\n",
    "\n",
    "To be able to read data from the Redshift table, an on-demand feature group needs to be defined.\n",
    "In Hopsworks on-demand feature groups allow users to register features stored on external systems (Redshift, RDS, S3) with the Hopsworks feature store. \n",
    "\n",
    "Registering external features with the Hopsworks feature store has several advantages. The first one is *provenance*, from the Hopsworks Web UI users are able to track which features are stored on which external systems and how they are computed. \n",
    "Additionally HSFS (the Python/Scala library used to interact with the feature store) provides the same APIs for on-demand feature groups as for feature groups available within Hopsworks itself (Cached feature groups). Thus abstracting the complexity of configuring data ingestion.\n",
    "\n",
    "An on-demand feature group can be defined as follow:"
   ]
  },
  {
   "cell_type": "code",
   "execution_count": 11,
   "metadata": {},
   "outputs": [],
   "source": [
    "# Retrieve the storage connector defined before\n",
    "redshift_conn = fs.get_storage_connector(\"telco_redshift_cluster\")"
   ]
  },
  {
   "cell_type": "code",
   "execution_count": 3,
   "metadata": {},
   "outputs": [],
   "source": [
    "telco_on_dmd = fs.create_on_demand_feature_group(name=\"telco_redshift\",\n",
    "                                                version=2,\n",
    "                                                query=\"select * from telco\",\n",
    "                                                description=\"On-demand feature group for telecom customer data\",\n",
    "                                                storage_connector=redshift_conn,\n",
    "                                                statistics_config=True)"
   ]
  },
  {
   "cell_type": "code",
   "execution_count": 5,
   "metadata": {},
   "outputs": [],
   "source": [
    "telco_on_dmd.save()"
   ]
  },
  {
   "cell_type": "markdown",
   "metadata": {},
   "source": [
    "<h3 style=\"color: #1EB382;font-weight: bold;\">Feature Engineering</h3>\n",
    "\n",
    "On-demand feature groups can be used directly as a source for creating training datasets. This is often the case if a company is migrating to Hopsworks and there are already feature engineering pipelines in production writing data to Redshift.\n",
    "\n",
    "This flexibility provided by Hopsworks allows users to hit the ground running from day 1, without having to rewrite their pipelines to take advantage of the benefits the Hopsworks feature store provides."
   ]
  },
  {
   "cell_type": "code",
   "execution_count": 13,
   "metadata": {},
   "outputs": [
    {
     "name": "stdout",
     "output_type": "stream",
     "text": [
      "+-----------+----------------+-------------+-------------+-----+\n",
      "|customer_id|internet_service|phone_service|total_charges|churn|\n",
      "+-----------+----------------+-------------+-------------+-----+\n",
      "| 7590-VHVEG|             DSL|           No|        29.85|   No|\n",
      "| 5575-GNVDE|             DSL|          Yes|       1889.5|   No|\n",
      "| 3668-QPYBK|             DSL|          Yes|       108.15|  Yes|\n",
      "| 7795-CFOCW|             DSL|           No|      1840.75|   No|\n",
      "| 9237-HQITU|     Fiber optic|          Yes|       151.65|  Yes|\n",
      "+-----------+----------------+-------------+-------------+-----+\n",
      "only showing top 5 rows"
     ]
    }
   ],
   "source": [
    "telco_on_dmd.select(['customer_id', 'internet_service', 'phone_service', 'total_charges', 'churn']).show(5)"
   ]
  },
  {
   "cell_type": "markdown",
   "metadata": {},
   "source": [
    "On-demand feature groups can also be joined with cached feature groups to create training datasets. This document (https://docs.hopsworks.ai/generated/query_vs_dataframe/) explains in details how the HSFS joining APIs work and how they can be used to create training datasets.\n",
    "\n",
    "If, however, Redshift contains raw data that needs to be feature engineered, users can invoke the HSFS API and retrieve a Spark DataFrame backed by the Redshift table. "
   ]
  },
  {
   "cell_type": "code",
   "execution_count": 32,
   "metadata": {},
   "outputs": [],
   "source": [
    "spark_df = telco_on_dmd.read()"
   ]
  },
  {
   "cell_type": "code",
   "execution_count": 28,
   "metadata": {},
   "outputs": [],
   "source": [
    "from pyspark.sql.types import DoubleType\n",
    "from pyspark.sql import functions as F\n",
    "from pyspark.ml import Pipeline\n",
    "from pyspark.ml.feature import StringIndexer"
   ]
  },
  {
   "cell_type": "code",
   "execution_count": 48,
   "metadata": {},
   "outputs": [],
   "source": [
    "categoricalColumns = ['gender','senior_citizen','partner','dependents','phone_service','multiple_lines',\n",
    "                      'internet_service', 'online_security', 'online_backup', 'device_protection', 'tech_support',\n",
    "                      'streaming_tv', 'streaming_movies', 'contract', 'paperless_billing', 'payment_method', 'churn']\n",
    "\n",
    "spark_df = spark_df.withColumn(\"total_charges\", F.col(\"total_charges\").cast(DoubleType()))\\\n",
    "                   .fillna(0)\n",
    "\n",
    "stages = [] # stages in our Pipeline\n",
    "output_cols = [('customer_id', 'customer_id')]\n",
    "for categoricalCol in categoricalColumns:\n",
    "    # Category Indexing with StringIndexer\n",
    "    output_col = categoricalCol + \"_Index\"\n",
    "    stringIndexer = StringIndexer(inputCol=categoricalCol, outputCol=output_col)\n",
    "    stages += [stringIndexer]\n",
    "    output_cols += [(categoricalCol, output_col)]\n",
    "\n",
    "pipeline = Pipeline(stages=stages)\n",
    "dataset = pipeline.fit(spark_df).transform(spark_df)\n",
    "telco_fg_df = dataset.selectExpr([\"{} as {}\".format(col[1], col[0]) for col in output_cols])"
   ]
  },
  {
   "cell_type": "code",
   "execution_count": 51,
   "metadata": {},
   "outputs": [
    {
     "name": "stdout",
     "output_type": "stream",
     "text": [
      "+-----------+------+--------------+-------+----------+-------------+--------------+----------------+---------------+-------------+-----------------+------------+------------+----------------+--------+-----------------+--------------+-----+\n",
      "|customer_id|gender|senior_citizen|partner|dependents|phone_service|multiple_lines|internet_service|online_security|online_backup|device_protection|tech_support|streaming_tv|streaming_movies|contract|paperless_billing|payment_method|churn|\n",
      "+-----------+------+--------------+-------+----------+-------------+--------------+----------------+---------------+-------------+-----------------+------------+------------+----------------+--------+-----------------+--------------+-----+\n",
      "| 7590-VHVEG|   1.0|           0.0|    1.0|       0.0|          1.0|           2.0|             1.0|            0.0|          1.0|              0.0|         0.0|         0.0|             0.0|     0.0|              0.0|           0.0|  0.0|\n",
      "| 5575-GNVDE|   0.0|           0.0|    0.0|       0.0|          0.0|           0.0|             1.0|            1.0|          0.0|              1.0|         0.0|         0.0|             0.0|     2.0|              1.0|           1.0|  0.0|\n",
      "| 3668-QPYBK|   0.0|           0.0|    0.0|       0.0|          0.0|           0.0|             1.0|            1.0|          1.0|              0.0|         0.0|         0.0|             0.0|     0.0|              0.0|           1.0|  1.0|\n",
      "| 7795-CFOCW|   0.0|           0.0|    0.0|       0.0|          1.0|           2.0|             1.0|            1.0|          0.0|              1.0|         1.0|         0.0|             0.0|     2.0|              1.0|           2.0|  0.0|\n",
      "| 9237-HQITU|   1.0|           0.0|    0.0|       0.0|          0.0|           0.0|             0.0|            0.0|          0.0|              0.0|         0.0|         0.0|             0.0|     0.0|              0.0|           0.0|  1.0|\n",
      "+-----------+------+--------------+-------+----------+-------------+--------------+----------------+---------------+-------------+-----------------+------------+------------+----------------+--------+-----------------+--------------+-----+\n",
      "only showing top 5 rows"
     ]
    }
   ],
   "source": [
    "telco_fg_df.show(5)"
   ]
  },
  {
   "cell_type": "markdown",
   "metadata": {},
   "source": [
    "<h3 style=\"color: #1EB382;font-weight: bold;\">Derived Feature Group</h3>\n",
    "\n",
    "Finally users can save the output of their transformations in the feature store as a derived cached feature group.\n",
    "\n",
    "Storing feature groups as cached feature groups within Hopsworks provides several benefits. First it allows users to leverage HUDI for upserts and time travel capabilities. As new data is ingested, new commits are tracked by Hopsworks allowing users to see what has changed over time.\n",
    "Similarly to on-demand feature groups, at each commit, statistics are computed and tracked in Hopsworks, allowing users to understand how the data changes.\n",
    "\n",
    "Cached feature groups can also be made available online (`online_enabled=True`) thus enabling low latency requests to augment inference vectors."
   ]
  },
  {
   "cell_type": "code",
   "execution_count": 53,
   "metadata": {},
   "outputs": [],
   "source": [
    "telco_fg = fs.create_feature_group(name=\"telco_customer_features\",\n",
    "                                version=1,\n",
    "                                description=\"Telecom customer features\",\n",
    "                                online_enabled=True,\n",
    "                                time_travel_format=\"HUDI\",\n",
    "                                primary_key=[\"customer_id\"],\n",
    "                                statistics_config=True)"
   ]
  },
  {
   "cell_type": "code",
   "execution_count": null,
   "metadata": {},
   "outputs": [],
   "source": [
    "telco_fg.save(telco_fg_df)"
   ]
  }
 ],
 "metadata": {
  "kernelspec": {
   "display_name": "PySpark",
   "language": "python",
   "name": "pysparkkernel"
  },
  "language_info": {
   "codemirror_mode": {
    "name": "python",
    "version": 3
   },
   "mimetype": "text/x-python",
   "name": "pyspark",
   "pygments_lexer": "python3"
  }
 },
 "nbformat": 4,
 "nbformat_minor": 4
}