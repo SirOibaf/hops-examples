{
 "cells": [
  {
   "cell_type": "code",
   "execution_count": 1,
   "metadata": {},
   "outputs": [
    {
     "name": "stdout",
     "output_type": "stream",
     "text": [
      "Starting Spark application\n"
     ]
    },
    {
     "data": {
      "text/html": [
       "<table>\n",
       "<tr><th>ID</th><th>YARN Application ID</th><th>Kind</th><th>State</th><th>Spark UI</th><th>Driver log</th></tr><tr><td>14</td><td>application_1605687609616_0002</td><td>pyspark</td><td>idle</td><td><a target=\"_blank\" href=\"http://ip-10-0-0-247.us-west-2.compute.internal:8088/proxy/application_1605687609616_0002/\">Link</a></td><td><a target=\"_blank\" href=\"http://ip-10-0-0-50.us-west-2.compute.internal:8042/node/containerlogs/container_e04_1605687609616_0002_01_000001/dataai__moritz00\">Link</a></td></tr></table>"
      ],
      "text/plain": [
       "<IPython.core.display.HTML object>"
      ]
     },
     "metadata": {},
     "output_type": "display_data"
    },
    {
     "name": "stdout",
     "output_type": "stream",
     "text": [
      "SparkSession available as 'spark'.\n"
     ]
    }
   ],
   "source": [
    "import hsfs\n",
    "from hops import pandas_helper as pd_helper\n",
    "import pandas as pd\n",
    "from hops import hdfs\n",
    "from sklearn.ensemble import GradientBoostingRegressor\n",
    "from sklearn.metrics import mean_squared_error"
   ]
  },
  {
   "cell_type": "markdown",
   "metadata": {},
   "source": [
    "## Connect to Feature Store And Get Reference to Training Dataset"
   ]
  },
  {
   "cell_type": "code",
   "execution_count": 2,
   "metadata": {},
   "outputs": [
    {
     "name": "stdout",
     "output_type": "stream",
     "text": [
      "Connected. Call `.close()` to terminate connection gracefully."
     ]
    }
   ],
   "source": [
    "import hsfs\n",
    "connection = hsfs.connection()\n",
    "fs = connection.get_feature_store()\n",
    "td = fs.get_training_dataset(\"real_estate_price\", version=1)"
   ]
  },
  {
   "cell_type": "markdown",
   "metadata": {},
   "source": [
    "### Inspect Training Dataset Metadata"
   ]
  },
  {
   "cell_type": "code",
   "execution_count": 3,
   "metadata": {},
   "outputs": [
    {
     "name": "stdout",
     "output_type": "stream",
     "text": [
      "'hopsfs://10.0.0.247:8020/Projects/dataai/dataai_Training_Datasets/real_estate_price_1'"
     ]
    }
   ],
   "source": [
    "td.location"
   ]
  },
  {
   "cell_type": "code",
   "execution_count": 4,
   "metadata": {},
   "outputs": [
    {
     "name": "stdout",
     "output_type": "stream",
     "text": [
      "{'test': 0.2, 'train': 0.7, 'validate': 0.1}"
     ]
    }
   ],
   "source": [
    "td.splits"
   ]
  },
  {
   "cell_type": "code",
   "execution_count": 5,
   "metadata": {},
   "outputs": [
    {
     "name": "stdout",
     "output_type": "stream",
     "text": [
      "['sale_price']"
     ]
    }
   ],
   "source": [
    "td.label"
   ]
  },
  {
   "cell_type": "code",
   "execution_count": 6,
   "metadata": {},
   "outputs": [
    {
     "name": "stdout",
     "output_type": "stream",
     "text": [
      "'csv'"
     ]
    }
   ],
   "source": [
    "td.data_format"
   ]
  },
  {
   "cell_type": "markdown",
   "metadata": {},
   "source": [
    "## Define Training Function And Tune Model"
   ]
  },
  {
   "cell_type": "code",
   "execution_count": null,
   "metadata": {},
   "outputs": [],
   "source": [
    "train_files = [path for path in hdfs.ls(td.location + \"/train\") if \".csv\" in path]\n",
    "test_files = [path for path in hdfs.ls(td.location + \"/test\") if \".csv\" in path]\n",
    "\n",
    "def train(max_depth, lr, n_estimators):\n",
    "    from hops import pandas_helper as pd_helper\n",
    "    import pandas as pd\n",
    "    from hops import hdfs\n",
    "    from sklearn.ensemble import GradientBoostingRegressor\n",
    "    from sklearn.metrics import mean_squared_error\n",
    "    from torch.utils.tensorboard import SummaryWriter\n",
    "    from maggy import tensorboard\n",
    "    import joblib\n",
    "\n",
    "    train_df = pd.concat((pd_helper.read_csv(f) for f in train_files))\n",
    "\n",
    "    X_train = train_df.drop(td.label, axis=1)\n",
    "    y_train = train_df[td.label]\n",
    "\n",
    "    test_df = pd.concat((pd_helper.read_csv(f) for f in test_files))\n",
    "\n",
    "    X_test = test_df.drop(td.label, axis=1)\n",
    "    y_test = test_df[td.label]\n",
    "    \n",
    "    reg = GradientBoostingRegressor(max_depth=max_depth, learning_rate=lr, n_estimators=n_estimators, random_state=0)\n",
    "    reg.fit(X_train, y_train.values.ravel())\n",
    "    \n",
    "    predictions = reg.predict(X_test)\n",
    "    \n",
    "    mse = mean_squared_error(y_test, predictions)\n",
    "    rmse = mean_squared_error(y_test, predictions, squared=False)\n",
    "    r2 = reg.score(X_test, y_test)\n",
    "    \n",
    "    print(\"MSE: {}\".format(mse))\n",
    "    print(\"RMSE: {}\".format(rmse))\n",
    "    print(\"R2: {}\".format(r2))\n",
    "    \n",
    "    # write model\n",
    "    h = hdfs.get_fs()\n",
    "    with h.open_file(tensorboard.logdir() + \"/model.pkl\", \"w\") as f:\n",
    "        joblib.dump(reg, f)\n",
    "\n",
    "    return {\"mse\": mse, \"rmse\": rmse, \"r2\": r2}"
   ]
  },
  {
   "cell_type": "markdown",
   "metadata": {},
   "source": [
    "### Define Searchspace"
   ]
  },
  {
   "cell_type": "code",
   "execution_count": null,
   "metadata": {},
   "outputs": [],
   "source": [
    "from maggy import Searchspace\n",
    "\n",
    "sp = Searchspace(max_depth=('INTEGER', [2, 10]), lr=('DISCRETE', [0.1, 0.01, 0.001, 0.0001]), n_estimators=('INTEGER', [50, 500]))"
   ]
  },
  {
   "cell_type": "markdown",
   "metadata": {},
   "source": [
    "### Launch Experiment"
   ]
  },
  {
   "cell_type": "code",
   "execution_count": null,
   "metadata": {},
   "outputs": [],
   "source": [
    "from maggy import experiment\n",
    "result = experiment.lagom(train, \n",
    "                           searchspace=sp, \n",
    "                           optimizer='randomsearch', \n",
    "                           direction='min',\n",
    "                           num_trials=10, \n",
    "                           name='real_estate_price',\n",
    "                           es_policy='none',\n",
    "                           optimization_key=\"mse\"\n",
    "                          )"
   ]
  },
  {
   "cell_type": "code",
   "execution_count": 10,
   "metadata": {},
   "outputs": [],
   "source": [
    "from hops import model, serving\n",
    "MODEL_NAME = \"real_estate_pricing\"\n",
    "EVALUATION_METRIC = \"mse\"\n",
    "model_path = \"Experiments/application_1605687609616_0001_2/754f9bd9e2eadbc4\""
   ]
  },
  {
   "cell_type": "code",
   "execution_count": null,
   "metadata": {},
   "outputs": [],
   "source": [
    "hdfs.cp(\"Jupyter/real_estate_pricing_serving.py\", model_path + \"/real_estate_pricing_serving.py\", overwrite=True)"
   ]
  },
  {
   "cell_type": "code",
   "execution_count": null,
   "metadata": {},
   "outputs": [],
   "source": [
    "model.export(model_path, MODEL_NAME, metrics={EVALUATION_METRIC: result[\"best_val\"]})"
   ]
  },
  {
   "cell_type": "code",
   "execution_count": null,
   "metadata": {},
   "outputs": [],
   "source": [
    "real_estate_model = model.get_best_model(MODEL_NAME, EVALUATION_METRIC, model.Metric.MIN)\n",
    "script_path = \"Models/\" + MODEL_NAME + \"/\" + str(real_estate_model[\"version\"]) + \"/real_estate_pricing_serving.py\"\n",
    "serving.create_or_update(script_path, \"RealEstateServing\", model_version=real_estate_model['version'], serving_type=\"SKLEARN\")"
   ]
  },
  {
   "cell_type": "code",
   "execution_count": 8,
   "metadata": {},
   "outputs": [],
   "source": [
    "val_files = [path for path in hdfs.ls(td.location + \"/validate\") if \".csv\" in path]\n",
    "val_df = pd.concat((pd_helper.read_csv(f) for f in val_files))\n",
    "\n",
    "X_val = val_df.drop(td.label, axis=1)\n",
    "y_val = val_df[td.label]"
   ]
  },
  {
   "cell_type": "code",
   "execution_count": null,
   "metadata": {},
   "outputs": [],
   "source": []
  }
 ],
 "metadata": {
  "kernelspec": {
   "display_name": "PySpark",
   "language": "python",
   "name": "pysparkkernel"
  },
  "language_info": {
   "codemirror_mode": {
    "name": "python",
    "version": 3
   },
   "mimetype": "text/x-python",
   "name": "pyspark",
   "pygments_lexer": "python3"
  }
 },
 "nbformat": 4,
 "nbformat_minor": 4
}