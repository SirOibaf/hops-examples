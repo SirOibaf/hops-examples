{
 "cells": [
  {
   "cell_type": "markdown",
   "metadata": {},
   "source": [
    "### Feature Engineering"
   ]
  },
  {
   "cell_type": "code",
   "execution_count": 1,
   "metadata": {},
   "outputs": [
    {
     "name": "stdout",
     "output_type": "stream",
     "text": [
      "Starting Spark application\n"
     ]
    },
    {
     "data": {
      "text/html": [
       "<table>\n",
       "<tr><th>ID</th><th>YARN Application ID</th><th>Kind</th><th>State</th><th>Spark UI</th><th>Driver log</th></tr><tr><td>7</td><td>application_1605601890461_0005</td><td>pyspark</td><td>idle</td><td><a target=\"_blank\" href=\"http://ip-10-0-0-247.us-west-2.compute.internal:8088/proxy/application_1605601890461_0005/\">Link</a></td><td><a target=\"_blank\" href=\"http://ip-10-0-0-50.us-west-2.compute.internal:8042/node/containerlogs/container_e03_1605601890461_0005_01_000001/dataai__meb10179\">Link</a></td></tr></table>"
      ],
      "text/plain": [
       "<IPython.core.display.HTML object>"
      ]
     },
     "metadata": {},
     "output_type": "display_data"
    },
    {
     "name": "stdout",
     "output_type": "stream",
     "text": [
      "SparkSession available as 'spark'.\n",
      "Connected. Call `.close()` to terminate connection gracefully."
     ]
    }
   ],
   "source": [
    "from pyspark.sql import functions as F\n",
    "from pyspark.sql.types import * \n",
    "import hsfs\n",
    "\n",
    "connection = hsfs.connection()\n",
    "fs = connection.get_feature_store()"
   ]
  },
  {
   "cell_type": "markdown",
   "metadata": {},
   "source": [
    "### Brooklyn real estate sales\n",
    "\n",
    "This example is based on [this](https://www.kaggle.com/tianhwu/brooklynhomes2003to2017?select=brooklyn_sales_map.csv) Kaggle dataset. The idea is to build features to train a model to predict real estate prices in Brooklyn"
   ]
  },
  {
   "cell_type": "code",
   "execution_count": 2,
   "metadata": {},
   "outputs": [],
   "source": [
    "brooklyn_data = spark.read.format(\"csv\").option(\"header\", \"true\").load(\"hdfs:///Projects/dataai/Brooklyn/archive/brooklyn_sales_map.csv\")"
   ]
  },
  {
   "cell_type": "markdown",
   "metadata": {},
   "source": [
    "### Data cleaning and one-hot encoding\n",
    "\n",
    "Let's start by creating the first feature groups, containing features related to the property being sold. We cast the data to integer of floats to be used to train models and  we one-hot encode some categorical features"
   ]
  },
  {
   "cell_type": "code",
   "execution_count": 3,
   "metadata": {},
   "outputs": [],
   "source": [
    "apartments_data = brooklyn_data.filter(\"building_class_category like '%APARTMENTS%'\")\\\n",
    "                               .withColumn(\"age_at_sale\", F.col(\"year_of_sale\") - F.col(\"year_built\"))\\\n",
    "                               .withColumn(\"building_class\", F.split(F.col(\"building_class_category\"), \" \").getItem(0))\\\n",
    "                               .where(\"ResArea != 'NA'\")\\\n",
    "                               .selectExpr(['cast(building_class as int)', 'cast(residential_units as int)', 'age_at_sale', 'cast(sale_price as float)', \n",
    "                                            'cast(SchoolDist as int) as school_dist', 'cast(PolicePrct as int) as police_prct', 'cast(HealthArea as int) as health_area', \n",
    "                                            'cast(ResArea as int) as res_area', 'cast(GarageArea as int) as garage_area', 'OwnerType as owner_type'])"
   ]
  },
  {
   "cell_type": "code",
   "execution_count": 4,
   "metadata": {},
   "outputs": [
    {
     "name": "stdout",
     "output_type": "stream",
     "text": [
      "root\n",
      " |-- building_class: integer (nullable = true)\n",
      " |-- residential_units: integer (nullable = true)\n",
      " |-- age_at_sale: double (nullable = true)\n",
      " |-- sale_price: float (nullable = true)\n",
      " |-- school_dist: integer (nullable = true)\n",
      " |-- police_prct: integer (nullable = true)\n",
      " |-- health_area: integer (nullable = true)\n",
      " |-- res_area: integer (nullable = true)\n",
      " |-- garage_area: integer (nullable = true)\n",
      " |-- owner_type: string (nullable = true)"
     ]
    }
   ],
   "source": [
    "apartments_data.printSchema()"
   ]
  },
  {
   "cell_type": "code",
   "execution_count": 5,
   "metadata": {},
   "outputs": [],
   "source": [
    "apartments_data_fg = apartments_data\\\n",
    "               .withColumn(\"property_id\", F.monotonically_increasing_id())\\\n",
    "               .withColumn(\"is_owner_private\", F.when(F.col(\"owner_type\") == \"P\", 1).otherwise(0))\\\n",
    "               .withColumn(\"is_owner_company\", F.when(F.col(\"owner_type\") == \"C\", 1).otherwise(0))\\\n",
    "               .withColumn(\"is_owner_organization\", F.when(F.col(\"owner_type\") == \"O\", 1).otherwise(0))\\\n",
    "               .withColumn(\"is_single_unit\", F.when(F.col(\"residential_units\") == 1, 1).otherwise(0))\\\n",
    "               .withColumn(\"is_large_residential\", F.when(F.col(\"residential_units\") >= 100, 1).otherwise(0))\\\n",
    "               .withColumn(\"has_garage_area\", F.when(F.col(\"garage_area\") >= 0, 1).otherwise(0))"
   ]
  },
  {
   "cell_type": "markdown",
   "metadata": {},
   "source": [
    "This section creates the first `real_estate` feature group. We are going to use this feature group for online serving, so we publish this feature group online. We are also going to configure statistics for it.\n",
    "\n",
    "As explained in the documentation [docs.hopsworks.ai](https://docs.hopsworks.ai) - the first step creates the metadata object, while the second step actually saves the feature data in the feature store. "
   ]
  },
  {
   "cell_type": "code",
   "execution_count": 6,
   "metadata": {},
   "outputs": [
    {
     "name": "stdout",
     "output_type": "stream",
     "text": [
      "<hsfs.feature_group.FeatureGroup object at 0x7fa6d1d13710>"
     ]
    }
   ],
   "source": [
    "aprmt_fg_meta = fs.create_feature_group(\"real_estate\",\n",
    "                        version=1,\n",
    "                        description=\"Real estate features\",\n",
    "                        primary_key=['property_id'],\n",
    "                        statistics_config={'histograms': True, 'correlations': True},\n",
    "                        time_travel_format=None,\n",
    "                        online_enabled=True)\n",
    "\n",
    "aprmt_fg_meta.save(apartments_data_fg)"
   ]
  },
  {
   "cell_type": "markdown",
   "metadata": {},
   "source": [
    "### Add contextual features\n",
    "\n",
    "To make the example more interesting and realistic, we compute several other feature groups which contains contextual information. We are looking for example at the average prices for a given school district, health area and police district. \n",
    "\n",
    "We are keeping these features on separate feature groups to simulate multiple feature engineering pipelines writing to the Hopsworks Feature Store."
   ]
  },
  {
   "cell_type": "code",
   "execution_count": 7,
   "metadata": {},
   "outputs": [],
   "source": [
    "school_dist_avg_prices = apartments_data.groupBy(\"school_dist\").agg({'sale_price': 'avg'}).withColumnRenamed(\"avg(sale_price)\", \"school_dist_avg_sale_price\")\n",
    "school_dist_avg_prices_owner = apartments_data.groupBy([\"school_dist\", \"owner_type\"]).agg({'sale_price': 'avg'}).withColumnRenamed(\"avg(sale_price)\", \"school_dist_avg_sale_price_owner\")\n",
    "school_dist_avg_prices_cat = apartments_data.groupBy([\"school_dist\", \"building_class\"]).agg({'sale_price': 'avg'}).withColumnRenamed(\"avg(sale_price)\", \"school_dist_avg_sale_price_cat\")\n",
    "\n",
    "school_dist_fg = school_dist_avg_prices.join(school_dist_avg_prices_owner, \"school_dist\").join(school_dist_avg_prices_cat, \"school_dist\")"
   ]
  },
  {
   "cell_type": "code",
   "execution_count": 8,
   "metadata": {},
   "outputs": [
    {
     "name": "stdout",
     "output_type": "stream",
     "text": [
      "<hsfs.feature_group.FeatureGroup object at 0x7fa68b547390>"
     ]
    }
   ],
   "source": [
    "school_dist_fg_meta = fs.create_feature_group(\"school_dist\",\n",
    "                        version=1,\n",
    "                        description=\"School district features\",\n",
    "                        primary_key=['school_dist', 'owner_type', 'building_class'],\n",
    "                        statistics_config={'histograms': True, 'correlations': True},\n",
    "                        time_travel_format=None,\n",
    "                        online_enabled=True)\n",
    "\n",
    "school_dist_fg_meta.save(school_dist_fg)"
   ]
  },
  {
   "cell_type": "code",
   "execution_count": 9,
   "metadata": {},
   "outputs": [],
   "source": [
    "health_area_avg_prices = apartments_data.groupBy(\"health_area\").agg({'sale_price': 'avg'}).withColumnRenamed(\"avg(sale_price)\", \"health_area_avg_sale_price\")\n",
    "health_area_avg_prices_owner = apartments_data.groupBy([\"health_area\", \"owner_type\"]).agg({'sale_price': 'avg'}).withColumnRenamed(\"avg(sale_price)\", \"health_area_avg_sale_price_owner\")\n",
    "health_area_avg_prices_cat = apartments_data.groupBy([\"health_area\", \"building_class\"]).agg({'sale_price': 'avg'}).withColumnRenamed(\"avg(sale_price)\", \"health_area_avg_sale_price_cat\")\n",
    "\n",
    "health_area_fg = health_area_avg_prices.join(health_area_avg_prices_owner, \"health_area\").join(health_area_avg_prices_cat, \"health_area\")"
   ]
  },
  {
   "cell_type": "code",
   "execution_count": 10,
   "metadata": {},
   "outputs": [
    {
     "name": "stdout",
     "output_type": "stream",
     "text": [
      "<hsfs.feature_group.FeatureGroup object at 0x7fa68b0c3cd0>"
     ]
    }
   ],
   "source": [
    "health_area_fg_meta = fs.create_feature_group(\"health_area\",\n",
    "                        version=1,\n",
    "                        description=\"Health area features\",\n",
    "                        primary_key=['health_area', 'owner_type', 'building_class'],\n",
    "                        statistics_config={'histograms': True, 'correlations': True},\n",
    "                        time_travel_format=None,\n",
    "                        online_enabled=True)\n",
    "\n",
    "health_area_fg_meta.save(health_area_fg)"
   ]
  },
  {
   "cell_type": "code",
   "execution_count": 11,
   "metadata": {},
   "outputs": [],
   "source": [
    "police_prct_avg_prices = apartments_data.groupBy(\"police_prct\").agg({'sale_price': 'avg'}).withColumnRenamed(\"avg(sale_price)\", \"police_prct_avg_sale_price\")\n",
    "police_prct_avg_prices_owner = apartments_data.groupBy([\"police_prct\", \"owner_type\"]).agg({'sale_price': 'avg'}).withColumnRenamed(\"avg(sale_price)\", \"police_prct_avg_sale_price_owner\")\n",
    "police_prct_avg_prices_cat = apartments_data.groupBy([\"police_prct\", \"building_class\"]).agg({'sale_price': 'avg'}).withColumnRenamed(\"avg(sale_price)\", \"police_prct_sale_price_cat\")\n",
    "\n",
    "police_prct_fg = police_prct_avg_prices.join(police_prct_avg_prices_owner, \"police_prct\").join(police_prct_avg_prices_cat, \"police_prct\")"
   ]
  },
  {
   "cell_type": "code",
   "execution_count": 12,
   "metadata": {},
   "outputs": [
    {
     "name": "stdout",
     "output_type": "stream",
     "text": [
      "<hsfs.feature_group.FeatureGroup object at 0x7fa68b035e90>"
     ]
    }
   ],
   "source": [
    "police_prct_fg_meta = fs.create_feature_group(\"police_prct\",\n",
    "                        version=1,\n",
    "                        description=\"Police Precint features\",\n",
    "                        primary_key=['police_prct', 'owner_type', 'building_class'],\n",
    "                        statistics_config={'histograms': True, 'correlations': True},\n",
    "                        time_travel_format=None,\n",
    "                        online_enabled=True)\n",
    "\n",
    "police_prct_fg_meta.save(police_prct_fg)"
   ]
  }
 ],
 "metadata": {
  "kernelspec": {
   "display_name": "PySpark",
   "language": "python",
   "name": "pysparkkernel"
  },
  "language_info": {
   "codemirror_mode": {
    "name": "python",
    "version": 3
   },
   "mimetype": "text/x-python",
   "name": "pyspark",
   "pygments_lexer": "python3"
  }
 },
 "nbformat": 4,
 "nbformat_minor": 4
}